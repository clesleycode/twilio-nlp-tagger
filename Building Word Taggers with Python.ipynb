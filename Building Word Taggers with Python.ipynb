{
 "cells": [
  {
   "cell_type": "markdown",
   "metadata": {},
   "source": [
    "## Building Word Taggers with Python\n",
    "\n"
   ]
  },
  {
   "cell_type": "code",
   "execution_count": 3,
   "metadata": {},
   "outputs": [],
   "source": [
    "import math\n",
    "\n",
    "# Extract only the lines with the tag 'WORDTAG'\n",
    "# From the counts output file\n",
    "def extractWordTags():\n",
    "    file = open('onlyWordTags.txt','w')\n",
    "    for i in open('out.counts'):\n",
    "        if i.split()[1]=='WORDTAG':\n",
    "            file.write(i)\n",
    "    file.close()"
   ]
  },
  {
   "cell_type": "code",
   "execution_count": 4,
   "metadata": {},
   "outputs": [],
   "source": [
    "# There were around 1000 duplicate words\n",
    "# So, create a list of all the unique words\n",
    "def uniqueWords():\n",
    "    temp = []\n",
    "    for j in open('onlyWordTags.txt','r'):\n",
    "        temp.append(j.split()[3])\n",
    "    return list(set(temp))"
   ]
  },
  {
   "cell_type": "code",
   "execution_count": 5,
   "metadata": {},
   "outputs": [],
   "source": [
    "# Creates a simple model - a dictionary with\n",
    "# the word as a key and another dictionary as it's value\n",
    "# This second dictionary contains the Entity type of the word\n",
    "# and it's count\n",
    "# Example: {'Games':{'I-LOC': 3, 'I-MISC': 4, 'I-PER': 2}}\n",
    "# This function also returns another dictionary called neCounts\n",
    "# Which contains the total number of occurances of particular\n",
    "# Named Entity type\n",
    "# Example: {'I-LOC': 678, 'I-MISC': 7898, ....}\n",
    "def createAModel():\n",
    "    \"\"\"\n",
    "    Creates a dictionary model with all the unique words\n",
    "    and their occurrences as different Named Entities\n",
    "    \"\"\"\n",
    "    extractWordTags()\n",
    "    unique = uniqueWords()\n",
    "    unique.append('_RARE_')\n",
    "    finalDict = {}\n",
    "    listOfNE = ['I-LOC', 'I-PER', 'I-MISC', 'I-ORG', 'O', 'B-LOC', 'B-PER',\n",
    "              'B-MISC', 'B-ORG']\n",
    "    neCounts = {}\n",
    "    for i in listOfNE:\n",
    "        neCounts[i] = 0\n",
    "    ## Count the total number of Named Entities of each type\n",
    "    for i in open('onlyWordTags.txt','r'):\n",
    "        if i.split()[2] in listOfNE:\n",
    "            neCounts[i.split()[2]]+=int(i.split()[0])\n",
    "\n",
    "    ## Create the model dictionary\n",
    "    for i in unique:\n",
    "        typeDict = {}\n",
    "        for j in open('onlyWordTags.txt'):\n",
    "            tempy = j.split()\n",
    "            if tempy[3]==i:\n",
    "                typeDict[tempy[2]]=tempy[0]\n",
    "\n",
    "        finalDict[i]=typeDict\n",
    "\n",
    "    return finalDict, neCounts"
   ]
  },
  {
   "cell_type": "code",
   "execution_count": 6,
   "metadata": {},
   "outputs": [],
   "source": [
    "# Finds which named Entity occured most in the dictionary\n",
    "# And returns the Named Entity and it's count\n",
    "def maxOfDict(x):\n",
    "    temp = 0\n",
    "    winner = ''\n",
    "    for i in x:\n",
    "        if float(x[i])>temp:\n",
    "            temp=float(x[i])\n",
    "            winner = i\n",
    "    return winner, temp"
   ]
  },
  {
   "cell_type": "code",
   "execution_count": 7,
   "metadata": {},
   "outputs": [],
   "source": [
    "# This method predicts the Entity type of the test data\n",
    "# Along with the Log probability\n",
    "# It writes the output to '4-2.txt'\n",
    "def calcEmis(model, necounts):\n",
    "    \"\"\"\n",
    "    Predicts the Entity type along with the log probabilities\n",
    "    \"\"\"\n",
    "    e_dict = {}\n",
    "    four2 = open('4-2.txt','w')\n",
    "    for i in open('ner_dev.dat','r'):\n",
    "        if i=='\\n':\n",
    "            four2.write('\\n')\n",
    "        else:\n",
    "            curWrd = i.split()[0]\n",
    "            if curWrd in model:\n",
    "                buff = model[curWrd]\n",
    "                highestNE, highestVal = maxOfDict(buff)\n",
    "                four2.write(curWrd + ' ' + highestNE + ' '+ str(math.log(highestVal/necounts[highestNE], 2)) + '\\n')\n",
    "                e_dict[(curWrd, highestNE)] = math.log(highestVal/necounts[highestNE], 2)\n",
    "            else:\n",
    "                buff = model['_RARE_']\n",
    "                highestNE, highestVal = maxOfDict(buff)\n",
    "                four2.write(curWrd + ' ' +highestNE+ ' '+ str(math.log(highestVal/necounts[highestNE], 2)) + '\\n')\n",
    "                e_dict[(curWrd, highestNE)] = math.log(highestVal/necounts[highestNE], 2)\n",
    "    four2.close()\n",
    "    return e_dict"
   ]
  },
  {
   "cell_type": "code",
   "execution_count": 10,
   "metadata": {},
   "outputs": [],
   "source": [
    "model, neCounts = createAModel()\n",
    "calcEmis(model, neCounts)"
   ]
  }
 ],
 "metadata": {
  "kernelspec": {
   "display_name": "Python 3",
   "language": "python",
   "name": "python3"
  },
  "language_info": {
   "codemirror_mode": {
    "name": "ipython",
    "version": 3
   },
   "file_extension": ".py",
   "mimetype": "text/x-python",
   "name": "python",
   "nbconvert_exporter": "python",
   "pygments_lexer": "ipython3",
   "version": "3.6.2"
  }
 },
 "nbformat": 4,
 "nbformat_minor": 2
}
